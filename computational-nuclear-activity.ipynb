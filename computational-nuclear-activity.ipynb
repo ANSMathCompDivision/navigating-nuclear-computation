{
 "cells": [
  {
   "cell_type": "markdown",
   "metadata": {},
   "source": [
    "# Navigating Nuclear Computational Project (9-12 grades)"
   ]
  },
  {
   "cell_type": "markdown",
   "metadata": {},
   "source": [
    "The following project uses Jupyter notebook as an interactive platform to introduce some basic computational nuclear engineering concepts and execute them using the python coding language"
   ]
  },
  {
   "cell_type": "markdown",
   "metadata": {},
   "source": [
    "## Project Scope"
   ]
  },
  {
   "cell_type": "markdown",
   "metadata": {},
   "source": [
    "There will be some words here"
   ]
  },
  {
   "cell_type": "markdown",
   "metadata": {},
   "source": [
    "The basic concepts you should learn in this coding project are:\n",
    "    * What is activity?\n",
    "    * What is dose?\n",
    "    * What is shielding and how is it related to dose?\n",
    "    * How to computationally solve an equation\n",
    "    * Basic python scripting and coding practices"
   ]
  },
  {
   "cell_type": "markdown",
   "metadata": {},
   "source": [
    "These following three objectives should be executed in order"
   ]
  },
  {
   "cell_type": "markdown",
   "metadata": {},
   "source": [
    "### Objective 1: Calculating radionuclide activity"
   ]
  },
  {
   "cell_type": "markdown",
   "metadata": {},
   "source": [
    "A radionuclide is an atom that undergoes radioactive decay.  \n",
    "\n",
    "A radionuclide's activity is a measure of its radioactive decay rate (in units of disintegrations per second) and is given by the following equation:\n",
    "\n",
    "$$ A = \\lambda N $$\n",
    "\n",
    "where $N$ is the initial concentration of the radionuclide (in units of atoms) and $\\lambda$ is the radionuclide decay constant in units of 1/seconds.  "
   ]
  },
  {
   "cell_type": "markdown",
   "metadata": {},
   "source": [
    "\n",
    "$$ A = A_{i}e^{-\\lambda\\Delta t} $$"
   ]
  },
  {
   "cell_type": "code",
   "execution_count": null,
   "metadata": {},
   "outputs": [],
   "source": [
    "We can solve this equation computationally by passing inputs to a simple function that calculates and returns the nuclide's activity.\n",
    "\n",
    "Try updating the defined function below using the equation for activity so that this function returns a nuclide's activity at a given time."
   ]
  },
  {
   "cell_type": "code",
   "execution_count": 1,
   "metadata": {},
   "outputs": [],
   "source": [
    "# First we need to import some basic python libraries and packages"
   ]
  },
  {
   "cell_type": "code",
   "execution_count": null,
   "metadata": {},
   "outputs": [],
   "source": [
    "# This function calculates the activity of a radionuclide\n",
    "\n",
    "# input: decay constant for a nuclide in units of 1/seconds, initial concentration of atoms, time in units of seconds\n",
    "# output: activity\n",
    "\n",
    "def calculate_activity(nuclide_decay_constant, initial_concentration, time):\n",
    "    return activity"
   ]
  },
  {
   "cell_type": "markdown",
   "metadata": {},
   "source": [
    "### Objective 2: Calculating dose"
   ]
  },
  {
   "cell_type": "markdown",
   "metadata": {},
   "source": [
    "This second\n",
    "Now calculate dose to an object some distance away from a nuclide.\n",
    "\n",
    "$$"
   ]
  },
  {
   "cell_type": "markdown",
   "metadata": {},
   "source": [
    "### Objective 3: Inserting a shield"
   ]
  },
  {
   "cell_type": "code",
   "execution_count": null,
   "metadata": {},
   "outputs": [],
   "source": []
  },
  {
   "cell_type": "markdown",
   "metadata": {},
   "source": [
    "The solutions to these activities can be found in the `solution.txt` script"
   ]
  },
  {
   "cell_type": "markdown",
   "metadata": {},
   "source": [
    "## Extra Credit"
   ]
  },
  {
   "cell_type": "markdown",
   "metadata": {},
   "source": [
    "Once the functions above have been completed, we can use these functions along with python plotting tools to do stuff.\n",
    "\n",
    "See this other notebook ...."
   ]
  }
 ],
 "metadata": {
  "kernelspec": {
   "display_name": "Python 3",
   "language": "python",
   "name": "python3"
  },
  "language_info": {
   "codemirror_mode": {
    "name": "ipython",
    "version": 3
   },
   "file_extension": ".py",
   "mimetype": "text/x-python",
   "name": "python",
   "nbconvert_exporter": "python",
   "pygments_lexer": "ipython3",
   "version": "3.7.3"
  }
 },
 "nbformat": 4,
 "nbformat_minor": 2
}
