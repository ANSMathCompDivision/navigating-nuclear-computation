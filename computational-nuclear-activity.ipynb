{
 "cells": [
  {
   "cell_type": "markdown",
   "metadata": {},
   "source": [
    "# Navigating Nuclear Computational Project (9-12 grades)"
   ]
  },
  {
   "cell_type": "markdown",
   "metadata": {},
   "source": [
    "The following project uses Jupyter notebook as an interactive platform to introduce some basic computational nuclear engineering concepts and execute them using the python coding language"
   ]
  },
  {
   "cell_type": "markdown",
   "metadata": {},
   "source": [
    "## Project Scope"
   ]
  },
  {
   "cell_type": "markdown",
   "metadata": {},
   "source": [
    "There will be some words here"
   ]
  },
  {
   "cell_type": "markdown",
   "metadata": {},
   "source": [
    "The basic concepts you should learn in this coding project are:\n",
    "    * What is activity?\n",
    "    * What is dose?\n",
    "    * What is shielding and how is it related to dose?\n",
    "    * How to computationally solve an equation\n",
    "    * Basic python scripting and coding practices"
   ]
  },
  {
   "cell_type": "markdown",
   "metadata": {},
   "source": [
    "These following three objectives should be executed in order"
   ]
  },
  {
   "cell_type": "markdown",
   "metadata": {},
   "source": [
    "### Objective 1: Calculating radionuclide activity"
   ]
  },
  {
   "cell_type": "markdown",
   "metadata": {},
   "source": [
    "A radionuclide is an atom that undergoes radioactive decay.  \n",
    "\n",
    "A radionuclide's activity is a measure of its radioactive decay rate (in units of disintegrations per second) and is given by the following equation:\n",
    "\n",
    "$$ A = \\lambda N $$\n",
    "\n",
    "where $N$ is the initial concentration of atoms and $\\lambda$ is the radionuclide decay constant in units of 1/seconds.  \n",
    "\n",
    "$\\lambda$ is related to the half life ($t_{1/2})$, or the time for the activity to be half of its initial value, with the following equation: \n",
    "\n",
    "$$ \\lambda = \\frac{\\ln(2)}{t_{1/2}} $$"
   ]
  },
  {
   "cell_type": "markdown",
   "metadata": {},
   "source": [
    "\n",
    "Finally, the activity of a source with initial activity $A_{i}$ after an elapsed time $\\Delta t$ ($\\Delta t$ is the way we write $t_{b}-t_{a}$), is given by $A$, or:\n",
    "\n",
    "$$ A = A_{i}e^{-\\lambda\\Delta t} $$"
   ]
  },
  {
   "cell_type": "markdown",
   "metadata": {},
   "source": [
    "We can solve this equation computationally by passing inputs to a simple function that calculates and returns the nuclide's activity.\n",
    "\n",
    "Try updating the defined function below using the equation for activity so that this function returns a nuclide's activity at a given time."
   ]
  },
  {
   "cell_type": "code",
   "execution_count": 1,
   "metadata": {},
   "outputs": [],
   "source": [
    "# First we need to import some basic python libraries and packages"
   ]
  },
  {
   "cell_type": "code",
   "execution_count": null,
   "metadata": {},
   "outputs": [],
   "source": [
    "# This function calculates the activity of a radionuclide\n",
    "\n",
    "# input: decay constant for a nuclide in units of 1/seconds, initial concentration of atoms, time in units of seconds\n",
    "# output: activity\n",
    "\n",
    "def calculate_activity_with_time(nuclide_decay_constant, initial_concentration, time):\n",
    "    return activity"
   ]
  },
  {
   "cell_type": "markdown",
   "metadata": {},
   "source": [
    "#### Objective 1 discussion questions:\n",
    "\n",
    "* What happens as you vary the initial concentration of particles? \n",
    "* How does the activity compare if you have a very short half-life vs. a very long half-life? \n",
    "* What happens if the length of time you wait is very different from the time of your half life? \n",
    "* What other functions could you write that would make this function easier to use? "
   ]
  },
  {
   "cell_type": "markdown",
   "metadata": {},
   "source": [
    "### Objective 2: Effects of Distance"
   ]
  },
  {
   "cell_type": "markdown",
   "metadata": {},
   "source": [
    "This second\n",
    "Now calculate the particle rate that is hittingan object some distance away from a nuclide.\n",
    "\n",
    "$$ particle\\ rate = A_i\\frac{exposure\\ area}{4\\pi r^{2}} $$ \n",
    "\n",
    "Let's assume that the `exposure area` here is the cross sectional area of the human body. We will make an assumption that this is a person's height times their width across their shoulders. "
   ]
  },
  {
   "cell_type": "code",
   "execution_count": null,
   "metadata": {},
   "outputs": [],
   "source": [
    "# This function calculates the total number of particles hitting a body at distance \n",
    "# `distance_from_source` away from the source.\n",
    "# Fill in the output \n",
    "\n",
    "# input: distance_from_source in cm, body_surface_area in cm^2. \n",
    "# Assume that the area of a human body can be calculated as height*with. \n",
    "# output: ???\n",
    "\n",
    "def calculate_particles_with_distance(distance_from_source, body_surface_area):\n",
    "    return particle_rate"
   ]
  },
  {
   "cell_type": "markdown",
   "metadata": {},
   "source": [
    "#### Objective 2 discussion questions:\n",
    "\n",
    "* How does changing the distance away from the source affect the total particle rate hitting the body? \n",
    "* Imagine if Michael Jordan and Simone Biles were both in the room with this source. Would the dose that each of them have be different? How would it differ? \n",
    "* What would happen if instead of facing the source, you turned sideways so your shoulder was pointing to it? \n",
    "* Do you think there are assumptions to this equation? What are they? Hint: what happens if you make the distance from the source very small? \n",
    "* What other functions could you write that would make this function easier to use? "
   ]
  },
  {
   "cell_type": "markdown",
   "metadata": {},
   "source": [
    "### Objective 3: Inserting a shield"
   ]
  },
  {
   "cell_type": "markdown",
   "metadata": {},
   "source": [
    "Now let's think about adding a shield between the source that's emitting particles and where we're detecting things. \n",
    "\n",
    "The intensity of particles exiting the sheild ($I_B$) is related to the particle intensity entering the shield ($I_A$) by the following equation:\n",
    "\n",
    "$$ I_B = I_A e^{ - \\Sigma x} $$\n"
   ]
  },
  {
   "cell_type": "markdown",
   "metadata": {},
   "source": [
    "Where $\\Sigma$ is the macroscopic cross section, in $1/{cm}$, which differs based on material properties of the shield, and $x$ is the shield thickness. "
   ]
  },
  {
   "cell_type": "code",
   "execution_count": null,
   "metadata": {},
   "outputs": [],
   "source": [
    "# This function calculates the change in particle quantity given a shield of a specific thickness. \n",
    "# Fill out the input and output fields in the comments here, so future coders know what your code is intended to do! \n",
    "\n",
    "# input: ???\n",
    "# output: ??? \n",
    "\n",
    "def calculate_shield_attenuation():\n",
    "    return "
   ]
  },
  {
   "cell_type": "markdown",
   "metadata": {},
   "source": [
    "#### Objective 3 discussion questions\n",
    "\n",
    "* If you were choosing a shielding material, what type of macroscopic cross section would you look for? "
   ]
  },
  {
   "cell_type": "markdown",
   "metadata": {},
   "source": [
    "The solutions to these activities can be found in the `solution.py` script"
   ]
  },
  {
   "cell_type": "markdown",
   "metadata": {},
   "source": [
    "### Objective 4: Putting it all together"
   ]
  },
  {
   "cell_type": "markdown",
   "metadata": {},
   "source": [
    "Something that we often do in programming is call (or use) functions within other functions. This makes our code easier to read, and also allows us to reuse smaller, simpler functions in lots of places so we don't have to keep rewriting things, which can get really annoying. Using the three functions that you've defined try to write a larger dose calculating function that returns the activity you see from a source after time `elapsed_time`, at a specific distance `distance_away`, and with a shield of thickness `shield_thickness` standing between you and the source. This equation may look a bit complicated, but luckily the earlier function definitiions makes our implementation easier!\n",
    "\n",
    "$$A_{all_effects} = A_{time}*A_{distance}*A_{shielding}\n",
    "\n",
    "which can also be rewritten as:\n",
    "\n",
    "$$A_{all\\ effects} = A_{i}e^{-\\lambda t} * \\frac{exposure\\ area}{4 \\pi r^{2}} * e^{-\\Sigma x} $$ "
   ]
  },
  {
   "cell_type": "markdown",
   "metadata": {},
   "source": [
    "Assume the same material properties and body dimensions that you used in your earlier functions so they're not inputs for this new equation. "
   ]
  },
  {
   "cell_type": "code",
   "execution_count": null,
   "metadata": {},
   "outputs": [],
   "source": [
    "def calculate_all_effects(elapsed_time, distance_away, thickness_t):\n",
    "    return particle_rate"
   ]
  },
  {
   "cell_type": "markdown",
   "metadata": {},
   "source": [
    "## Extra Credit"
   ]
  },
  {
   "cell_type": "markdown",
   "metadata": {},
   "source": [
    "Once the functions above have been completed, we can use these functions along with python plotting tools to do stuff.\n",
    "\n",
    "See this other notebook ...."
   ]
  }
 ],
 "metadata": {
  "kernelspec": {
   "display_name": "Python 3",
   "language": "python",
   "name": "python3"
  },
  "language_info": {
   "codemirror_mode": {
    "name": "ipython",
    "version": 3
   },
   "file_extension": ".py",
   "mimetype": "text/x-python",
   "name": "python",
   "nbconvert_exporter": "python",
   "pygments_lexer": "ipython3",
   "version": "3.6.7"
  }
 },
 "nbformat": 4,
 "nbformat_minor": 2
}
