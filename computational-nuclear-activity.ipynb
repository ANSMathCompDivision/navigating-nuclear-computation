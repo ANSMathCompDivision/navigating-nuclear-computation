{
 "cells": [
  {
   "cell_type": "markdown",
   "metadata": {},
   "source": [
    "# Navigating Nuclear Computational Project (9-12 grades)"
   ]
  },
  {
   "cell_type": "markdown",
   "metadata": {},
   "source": [
    "The following project uses Jupyter notebook as an interactive platform to introduce some basic computational nuclear engineering concepts and execute them using the python coding language."
   ]
  },
  {
   "cell_type": "markdown",
   "metadata": {},
   "source": [
    "## Project Scope"
   ]
  },
  {
   "cell_type": "markdown",
   "metadata": {},
   "source": [
    "The basic concepts you should learn in this coding project are:\n",
    "\n",
    "* What is activity?\n",
    "* How does distance from a source affect the particle rate at that distance?\n",
    "* What is shielding and how is it related to particle rate?\n",
    "* How to computationally solve an equation\n",
    "* Basic python scripting and coding practices"
   ]
  },
  {
   "cell_type": "markdown",
   "metadata": {},
   "source": [
    "These following objectives should be executed in order."
   ]
  },
  {
   "cell_type": "markdown",
   "metadata": {},
   "source": [
    "### Objective 1: Calculating radionuclide activity"
   ]
  },
  {
   "cell_type": "markdown",
   "metadata": {},
   "source": [
    "A radionuclide is an atom that undergoes radioactive decay.  \n",
    "\n",
    "A radionuclide's activity is a measure of its radioactive decay rate (in units of disintegrations or particles emitted per second) and is given by the following equation:\n",
    "\n",
    "$$ A = \\lambda N $$\n",
    "\n",
    "where $N$ is the initial concentration of atoms and $\\lambda$ is the radionuclide decay constant in units of 1/seconds.  \n",
    "\n",
    "$\\lambda$ is related to the half life ($t_{1/2})$, or the time for the activity to be half of its initial value, with the following equation: \n",
    "\n",
    "$$ \\lambda = \\frac{\\ln(2)}{t_{1/2}} $$"
   ]
  },
  {
   "cell_type": "markdown",
   "metadata": {},
   "source": [
    "\n",
    "Finally, the activity of a source with initial activity $A_{i}$ after an elapsed time $\\Delta t$ ($\\Delta t$ is the way we write $t_{b}-t_{a}$), is given by $A$, or:\n",
    "\n",
    "$$ A = A_{i}e^{-\\lambda\\Delta t} $$"
   ]
  },
  {
   "cell_type": "markdown",
   "metadata": {},
   "source": [
    "We can solve this equation computationally by passing inputs to a simple function that calculates and returns the radionuclide's activity.\n",
    "\n",
    "Try updating the defined function below using the equation for activity so that this function returns a radionuclide's activity at a given time."
   ]
  },
  {
   "cell_type": "code",
   "execution_count": 3,
   "metadata": {},
   "outputs": [],
   "source": [
    "# First we need to import a python math library\n",
    "import math"
   ]
  },
  {
   "cell_type": "code",
   "execution_count": 1,
   "metadata": {},
   "outputs": [],
   "source": [
    "# This function calculates the activity of a radionuclide\n",
    "\n",
    "# input: decay constant for a radionuclide [1/seconds], initial concentration of atoms, time [seconds]\n",
    "# output: activity [particles/second]\n",
    "\n",
    "def calculate_activity_with_time(nuclide_decay_constant, initial_concentration, time):\n",
    "    return activity"
   ]
  },
  {
   "cell_type": "markdown",
   "metadata": {},
   "source": [
    "Test your function by calculating the activity at $t = 500 $ seconds of a radionuclide with an initial concentration of $10^{24}$ atoms and a half life of 10 days."
   ]
  },
  {
   "cell_type": "code",
   "execution_count": 1,
   "metadata": {},
   "outputs": [],
   "source": [
    "# Test your function here\n",
    "# calculate_activity_with_time()"
   ]
  },
  {
   "cell_type": "markdown",
   "metadata": {},
   "source": [
    "#### Objective 1 discussion questions:\n",
    "\n",
    "* What happens as you vary the initial concentration of atoms? \n",
    "* How does the activity compare if you have a very short half-life vs. a very long half-life? \n",
    "* What happens if the length of time you wait is very different from the time of your half life? \n",
    "* What other functions could you write that would make this function easier to use? "
   ]
  },
  {
   "cell_type": "markdown",
   "metadata": {},
   "source": [
    "### Objective 2: Effects of Distance"
   ]
  },
  {
   "cell_type": "markdown",
   "metadata": {},
   "source": [
    "Now calculate the particle rate that is hitting an object some distance away from a radionuclide.\n",
    "\n",
    "$$ particle\\ rate = A_i\\frac{exposure\\ area}{4\\pi r^{2}} $$ \n",
    "\n",
    "Let's assume that the `exposure area` here is the cross sectional area of the human body. We will make an assumption that this is a person's height times their width across the shoulders.\n",
    "\n",
    "Modify the function below using the equation above to determine the particle rate seen by the human body.  You must determine what the output for this function should be."
   ]
  },
  {
   "cell_type": "code",
   "execution_count": 3,
   "metadata": {},
   "outputs": [],
   "source": [
    "# This function calculates the total number of particles hitting a body at distance \n",
    "# `distance_from_source` away from the source.\n",
    "\n",
    "# Assumptions:\n",
    "# The area of a human body can be calculated as height*width.\n",
    "\n",
    "# input: distance_from_source [cm], body_surface_area [cm^2], initial concentration of atoms. \n",
    "# output: ???\n",
    "\n",
    "def calculate_particles_with_distance(distance_from_source, body_surface_area, initial_concentration):\n",
    "    return"
   ]
  },
  {
   "cell_type": "markdown",
   "metadata": {},
   "source": [
    "Test your function by calculating the number of particles per second hitting a 6 feet tall and 1.5 feet wide person standing 100 cm from a source emitting 2000 particles per second. "
   ]
  },
  {
   "cell_type": "code",
   "execution_count": 2,
   "metadata": {},
   "outputs": [],
   "source": [
    "# Test your function here\n",
    "# calculate_particles_with_distance()"
   ]
  },
  {
   "cell_type": "markdown",
   "metadata": {},
   "source": [
    "#### Objective 2 discussion questions:\n",
    "\n",
    "* How does changing the distance away from the source affect the total particle rate hitting the body? \n",
    "* Imagine if Michael Jordan and Simone Biles were both in the room with this source. Would the particle rate that each of them sees be different? How would it differ? \n",
    "* What would happen if instead of facing the source, you turned sideways so your shoulder was pointing to it? \n",
    "* Do you think there are assumptions to this equation? What are they? Hint: what happens if you make the distance from the source very small? \n",
    "* What other functions could you write that would make this function easier to use? "
   ]
  },
  {
   "cell_type": "markdown",
   "metadata": {},
   "source": [
    "### Objective 3: Inserting a shield"
   ]
  },
  {
   "cell_type": "markdown",
   "metadata": {},
   "source": [
    "Now let's think about adding a shield between the source that's emitting particles and where we are detecting a particle rate. \n",
    "\n",
    "The intensity (or particle rate) of particles exiting a shield ($I_B$) is related to the particle intensity entering the shield ($I_A$) by the following equation:\n",
    "\n",
    "$$ I_B = I_A e^{ - \\Sigma x} $$\n"
   ]
  },
  {
   "cell_type": "markdown",
   "metadata": {},
   "source": [
    "Where $\\Sigma$ is the macroscopic cross section, in $1/{cm}$, which differs based on material properties of the shield, and $x$ is the shield thickness.  The macroscopic cross section is a measured property of a material. \n",
    "\n",
    "The equation above tells us that the shield attenuates the particle stream hitting it based upon the shield properties and thickness."
   ]
  },
  {
   "cell_type": "markdown",
   "metadata": {},
   "source": [
    "Modify the function below using the equation above to calculate the intensity (particle rate) exiting a shield.  You must determine what the inputs and output should be."
   ]
  },
  {
   "cell_type": "code",
   "execution_count": 6,
   "metadata": {},
   "outputs": [],
   "source": [
    "# This function calculates the change in particle rate given a shield of a specific thickness. \n",
    "# Fill out the input and output fields in the comments here so others know what your code is intended to do! \n",
    "\n",
    "# input: ???\n",
    "# output: ??? \n",
    "\n",
    "def calculate_shield_attenuation():\n",
    "    return "
   ]
  },
  {
   "cell_type": "markdown",
   "metadata": {},
   "source": [
    "Test your function by calculating the intensity of particles with an initial intensity of $10^{15}$ particles/second  after passing through a shield of thickness 4 cm with a macroscopic cross section of $\\Sigma = 0.2$ cm$^{-1}$."
   ]
  },
  {
   "cell_type": "code",
   "execution_count": null,
   "metadata": {},
   "outputs": [],
   "source": [
    "# Test your function here\n",
    "# calculate_shield_attenuation()"
   ]
  },
  {
   "cell_type": "markdown",
   "metadata": {},
   "source": [
    "#### Objective 3 discussion questions\n",
    "\n",
    "* If you were choosing a shielding material, what type of macroscopic cross section would you look for and why?\n",
    "* Do you think there are assumptions to this equation?  What are they?"
   ]
  },
  {
   "cell_type": "markdown",
   "metadata": {},
   "source": [
    "### Objective 4: Putting it all together"
   ]
  },
  {
   "cell_type": "markdown",
   "metadata": {},
   "source": [
    "Something that we often do in programming is call (or use) functions within other functions. This makes our code easier to read, and also allows us to reuse smaller, simpler functions in other places so we do not have to keep rewriting things, which can get really annoying and leads to duplicate code.\n",
    "\n",
    "\n",
    "Using the three functions that you have defined above, try to write a function that returns the activity you see from a source after a time, `elapsed_time`, at a specific distance, `distance_away`, and with a shield of thickness `shield_thickness` between you and the source. This equation may look a bit complicated, but luckily the earlier function definitiions makes our implementation easier!\n",
    "\n",
    "$$ A = A_{time}*A_{distance}*A_{shielding} $$\n",
    "\n",
    "which can also be rewritten as:\n",
    "\n",
    "$$ A = A_{i}e^{-\\lambda t} * \\frac{exposure\\ area}{4 \\pi r^{2}} * e^{-\\Sigma x} $$ "
   ]
  },
  {
   "cell_type": "markdown",
   "metadata": {},
   "source": [
    "Assume the same material properties and body dimensions that you used in your earlier functions so they are not inputs for this new function.  In other words, make the $\\lambda$, `exposure area`, and $\\Sigma$ fixed input values."
   ]
  },
  {
   "cell_type": "code",
   "execution_count": 1,
   "metadata": {},
   "outputs": [],
   "source": [
    "# This function calculates the activity seen from a source by a shielded human \n",
    "# after a time `elapsed_time` and a distance `distance_away`\n",
    "\n",
    "# Fill out the assumptions, input and output fields in the comments here so others know what your code is intended to do! \n",
    "\n",
    "# Assumptions:\n",
    "# ?\n",
    "\n",
    "# input: ???\n",
    "# output: ???\n",
    "def calculate_activity_of_all_effects(elapsed_time, distance_away, shield_thickness, initial_concentration):\n",
    "    return particle_rate"
   ]
  },
  {
   "cell_type": "markdown",
   "metadata": {},
   "source": [
    "Test your function by calculating the activity of a source with initial concentration of $10^{15}$ atoms and half life of 10 days that has passed through a shield of thickness 4 cm with a macroscopic cross section of $\\Sigma = 0.2$ cm$^{-1}$ and is measured at a distance of 1000 cm after 8000 seconds."
   ]
  },
  {
   "cell_type": "code",
   "execution_count": 1,
   "metadata": {},
   "outputs": [],
   "source": [
    "# Test your function here\n",
    "# calculate_activity_of_all_effects"
   ]
  },
  {
   "cell_type": "markdown",
   "metadata": {},
   "source": [
    "The suggested function solutions can be found in the `solutions.py` script and the answers to the discussion questions can be found in `discussion-solutions.md`."
   ]
  },
  {
   "cell_type": "markdown",
   "metadata": {},
   "source": [
    "## Extra Credit"
   ]
  },
  {
   "cell_type": "markdown",
   "metadata": {},
   "source": [
    "Once the functions above have been completed, we can use these functions along with python plotting tools to do stuff.\n",
    "\n",
    "See if you can use python matplotlib routines to make plots of the following:\n",
    "* A plot of activity versus time\n",
    "* A plot of particle rate versus distance\n",
    "* A plot of particle intensity versus shield thickness\n",
    "* A plot of particle intensity versus shield material\n",
    "\n",
    "What else would be interesting to plot with regard to activity and particle intensity?"
   ]
  },
  {
   "cell_type": "code",
   "execution_count": null,
   "metadata": {},
   "outputs": [],
   "source": []
  }
 ],
 "metadata": {
  "kernelspec": {
   "display_name": "Python 3",
   "language": "python",
   "name": "python3"
  },
  "language_info": {
   "codemirror_mode": {
    "name": "ipython",
    "version": 3
   },
   "file_extension": ".py",
   "mimetype": "text/x-python",
   "name": "python",
   "nbconvert_exporter": "python",
   "pygments_lexer": "ipython3",
   "version": "3.7.3"
  }
 },
 "nbformat": 4,
 "nbformat_minor": 2
}
