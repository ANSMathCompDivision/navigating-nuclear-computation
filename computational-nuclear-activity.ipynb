{
 "cells": [
  {
   "cell_type": "markdown",
   "metadata": {},
   "source": [
    "# Navigating Nuclear Computational Project (9-12 grades)"
   ]
  },
  {
   "cell_type": "markdown",
   "metadata": {},
   "source": [
    "The following project uses Jupyter notebook as an interactive platform to introduce some basic computational nuclear engineering concepts and execute them using the python coding language."
   ]
  },
  {
   "cell_type": "markdown",
   "metadata": {},
   "source": [
    "## Project Scope"
   ]
  },
  {
   "cell_type": "markdown",
   "metadata": {},
   "source": [
    "This lesson is a brief introduction to some basic principles of coding practices that are used by nuclear engineers. In learning how to code, you'll also implement some fundamental equations that are used in nuclear engineering. As you go through this lesson, try to think about how you could use these principles to solve other equations, or how you might improve the code you're writing. If you're working with friends you may find that your approach to a problem differs. That's ok! There are many correct solutions to software programs. If you notice these, talk with your peers about why you chose the approach you did. "
   ]
  },
  {
   "cell_type": "markdown",
   "metadata": {},
   "source": [
    "The basic concepts you should learn in this coding project are:\n",
    "\n",
    "* What is activity?\n",
    "* How does distance from a source affect the particle rate at that distance?\n",
    "* What is shielding and how is it related to particle rate?\n",
    "* How to computationally solve an equation\n",
    "* Basic python scripting and coding practices"
   ]
  },
  {
   "cell_type": "markdown",
   "metadata": {},
   "source": [
    "These following objectives should be executed in order."
   ]
  },
  {
   "cell_type": "markdown",
   "metadata": {},
   "source": [
    "### Objective 0: Background"
   ]
  },
  {
   "cell_type": "markdown",
   "metadata": {},
   "source": [
    "This section is a brief introduction to some principles of coding that you'll need to know to solve the problems in the subsequent sections.  First, we're going through these exercises in something called a `Jupyter Notebook`. Each cell with  `In [ ]:` next to it is a cell that we can execute code in. To execute that code (or load it so that it is stored in our computer's memory), you click on the cell and then push `Shift`+`Enter`.  Try it with the next cell. "
   ]
  },
  {
   "cell_type": "code",
   "execution_count": null,
   "metadata": {
    "collapsed": true
   },
   "outputs": [],
   "source": [
    "a = 3   # my variable is a and it is equal to 3"
   ]
  },
  {
   "cell_type": "markdown",
   "metadata": {},
   "source": [
    "Great! If you have executed this cell, there should be a number, and `In [ ]:` should have changed to `In [1]:`, meaning that this is the first cell that you've executed in the notebook. As you execute more cells, the numbers inside them will increment accordingly. \n",
    "\n",
    "In this last cell we've also *defined our first variable*. Here we've set the variable `a` equal to the number 3. We can call that variable again in the future by putting it in a cell and executing it again. \n",
    "\n",
    "You may also see some teal text following a `#` character. This is how we comment code in Python. Any content on a line that comes after a pound or hash symbol is interpreted as a comment and is not interpreted by the computer. This is helpful when we write code to remind ourselves of what our code is doing, especially in complicated places where lots of stuff might be going on. "
   ]
  },
  {
   "cell_type": "code",
   "execution_count": null,
   "metadata": {
    "collapsed": true
   },
   "outputs": [],
   "source": [
    "a"
   ]
  },
  {
   "cell_type": "markdown",
   "metadata": {},
   "source": [
    "Below the previous cell, you should see `Out[2]: 3`, meaning that the output of the second cell executed is 3. In other words, the variable `a` is 3. In the first cell that we executed we loaded our variable into memory. In the subsequent cell we returned the contents of our variable `a`. Sometimes it is helpful to check our variables this way in case we've accidentally changed a variable's value without realizing it. This is a good way to double-check things. \n",
    "\n",
    "We can use Python to do a lot more than just define variables. It can do all sorts of math. If we execute these cells, we'll see the solution in the output of each cell. "
   ]
  },
  {
   "cell_type": "code",
   "execution_count": null,
   "metadata": {
    "collapsed": true
   },
   "outputs": [],
   "source": [
    "a*6 "
   ]
  },
  {
   "cell_type": "code",
   "execution_count": null,
   "metadata": {
    "collapsed": true
   },
   "outputs": [],
   "source": [
    "a*12/333"
   ]
  },
  {
   "cell_type": "code",
   "execution_count": null,
   "metadata": {
    "collapsed": true
   },
   "outputs": [],
   "source": [
    "(a+a+2+9)*22/10000"
   ]
  },
  {
   "cell_type": "markdown",
   "metadata": {},
   "source": [
    "\n",
    "For reference, the following symbols can be used to do basic mathematical operations in Python\n",
    "\n",
    "* \\* is used for multiplication, e.g. $a \\times b$\n",
    "* \\+ is used for addition, e.g. $a + b$ \n",
    "* \\- is used for subtraction, e.g. $a - b$\n",
    "* / is used for division, e.g. $\\frac{a}{b}$ \n",
    "* \\*\\* is used for exponents, e.g. $a^b$. You may also find it helpful to use scientific notation to express large numbers. For example $10^2$ is the same as $10e2$ and Python will automatically recognize scientific notation as a number. \n",
    "\n",
    "There are many mathematical operations available in the Python core library. [Here](https://en.wikibooks.org/wiki/Python_Programming/Basic_Math#Mathematical_Operators) and [here](https://docs.python.org/2/library/math.html) are references if you'd like to see what else is available. \n",
    "\n",
    "This lesson will also require a few functions from the `math` module in Python. Those are:\n",
    "\n",
    "* math.exp() for exponents, e.g. $e^2$\n",
    "* math.log() for natural log, e.g. $\\ln(100)$\n",
    "* math.pi for the constant $\\pi$"
   ]
  },
  {
   "cell_type": "markdown",
   "metadata": {},
   "source": [
    "In the previous cells we've dealt with an object called a variable. We can also define our own functions that can use many variables and be used over and over again. Let's see what that looks like with a simple function that multiplies three numbers together."
   ]
  },
  {
   "cell_type": "code",
   "execution_count": null,
   "metadata": {
    "collapsed": true
   },
   "outputs": [],
   "source": [
    "def multiply_three_numbers(a, b, c):\n",
    "    \"\"\"\n",
    "    This function multiplies any three numbers supplied to it and \n",
    "    returns the value of the multiplication. \n",
    "    \n",
    "    inputs: a, b, c\n",
    "    output: value of all numbers multiplied together\n",
    "    \"\"\"\n",
    "    answer = a*b*c\n",
    "    return answer"
   ]
  },
  {
   "cell_type": "markdown",
   "metadata": {},
   "source": [
    "This function definition has a lot going on, so let's step through it together. \n",
    "\n",
    "First, functions are defined with `def` followed by the name of the function that you want to define. In this case we've called our function `multiply_three_numbers`, but it could be anything. We could call it `unicorn_rainbow` if we wanted. But it's a lot harder to go back through old code that we've written and understand what's going on if our function names are confusing. But one of the fun parts of being a programmer is that you get to name new things every day! \n",
    "\n",
    "Notice after the function name we have some contents in brackets followed by a colon `(a,b,c):`. The brackets identify what is ingested by our function, or what variables our function needs to be able to operate. In the case of this function, we will have three different variables -- `a`, `b`, and `c`. Finally, the colon tells us that this is the end of the function definition. \n",
    "\n",
    "The next few lines are bookended with `\"\"\"`. This is a special type of comment in Python called a multiline comment. This means that we can write many lines of comments and don't need to put a `#` sign at the beginning of each line. Because this multiline comment is immediately after our function definition line, that means it is something called a `docstring`, or a documentation string. Docstrings are human-readable explanations of a function, and minimally should include what the function ingests and what it will return. Docstrings are helpful because we can ask our notebook what a function does with a `?` symbol, and the docstring will be printed. If we don't have a docstring then we might not know what the function does at all. \n",
    "\n",
    "Let's try it: "
   ]
  },
  {
   "cell_type": "code",
   "execution_count": null,
   "metadata": {
    "collapsed": true
   },
   "outputs": [],
   "source": [
    "multiply_three_numbers?"
   ]
  },
  {
   "cell_type": "markdown",
   "metadata": {},
   "source": [
    "If you loaded the defined function and executed that cell, you should see a popup at the bottom of the screen with the function docstring. \n",
    "\n",
    "Finally, the body of our function definition shows us set the variable `answer` to `a*b*c`. In Python, multiplication can be done with the `*` symbol. So we've created a new variable in our function which is the product of the three variables that are ingested by the function. \n",
    "\n",
    "The last line of our function defintion is `return answer`. A python function should `return` a variable back to the user.\n",
    "\n",
    "Let's try our function out now. "
   ]
  },
  {
   "cell_type": "code",
   "execution_count": null,
   "metadata": {
    "collapsed": true
   },
   "outputs": [],
   "source": [
    "multiply_three_numbers(3,8,33)"
   ]
  },
  {
   "cell_type": "markdown",
   "metadata": {},
   "source": [
    "We can always change numbers that we pass to the function and re-execute the cell. \n",
    "\n",
    "You can also add cells if you need more space to define your variables or calculate things. You can add cells by pushing the `+` button up on the navigation bar of the notebook. You can drag cells around to reorder them with your mouse too. "
   ]
  },
  {
   "cell_type": "markdown",
   "metadata": {},
   "source": [
    "### Objective 1: Calculating radionuclide activity"
   ]
  },
  {
   "cell_type": "markdown",
   "metadata": {},
   "source": [
    "A radionuclide is an atom that undergoes radioactive decay.  \n",
    "\n",
    "A radionuclide's activity is a measure of its radioactive decay rate (in units of disintegrations or particles emitted per second) and is given by the following equation:\n",
    "\n",
    "$$ A_{i} = \\lambda N $$\n",
    "\n",
    "where $N$ is the initial concentration of atoms and $\\lambda$ is the radionuclide decay constant in units of 1/seconds.  \n",
    "\n",
    "$\\lambda$ is related to the half life ($t_{1/2})$, or the time for the activity to be half of its initial value, with the following equation: \n",
    "\n",
    "$$ \\lambda = \\frac{\\ln(2)}{t_{1/2}} $$"
   ]
  },
  {
   "cell_type": "markdown",
   "metadata": {},
   "source": [
    "\n",
    "Finally, the activity of a source with initial activity $A_{i}$ after an elapsed time $\\Delta t$ ($\\Delta t$ is the way we write $t_{b}-t_{a}$), is given by $A$, or:\n",
    "\n",
    "$$ A = A_{i}e^{-\\lambda\\Delta t} $$"
   ]
  },
  {
   "cell_type": "markdown",
   "metadata": {},
   "source": [
    "We can solve this equation computationally by passing inputs to a simple function that calculates and returns the radionuclide's activity.\n",
    "\n",
    "Try updating the defined function below using the equation for activity so that this function returns a radionuclide's activity at a given time."
   ]
  },
  {
   "cell_type": "code",
   "execution_count": null,
   "metadata": {
    "collapsed": true
   },
   "outputs": [],
   "source": [
    "# First we need to import a python math library\n",
    "import math"
   ]
  },
  {
   "cell_type": "markdown",
   "metadata": {},
   "source": [
    "For this objective and subsequent objectives, you should be able to get by using most of the basic python operators (`*`, `/`, `+`, `-`). However, $e$ and $\\ln$ are both functions in the math package, which is why we've loaded it. You can access them with `math.exp()` and `math.log()`. If you're curious, here is the page with all of the functions available in the math package: https://docs.python.org/2/library/math.html.  "
   ]
  },
  {
   "cell_type": "code",
   "execution_count": null,
   "metadata": {
    "collapsed": true
   },
   "outputs": [],
   "source": [
    "def calculate_activity_with_time(nuclide_decay_constant, initial_concentration, time):\n",
    "    \"\"\"\n",
    "    This function calculates the activity of a radionuclide\n",
    "    \n",
    "    input: decay constant for a radionuclide [1/seconds], initial concentration of atoms, \n",
    "           time [seconds]\n",
    "    output: activity [particles/second]\n",
    "    \"\"\"\n",
    "    return activity"
   ]
  },
  {
   "cell_type": "markdown",
   "metadata": {},
   "source": [
    "Test your function by calculating the activity at $t = 500 $ seconds of a radionuclide with an initial concentration of $10^{24}$ atoms and a half life of 10 days."
   ]
  },
  {
   "cell_type": "code",
   "execution_count": null,
   "metadata": {
    "collapsed": true
   },
   "outputs": [],
   "source": [
    "# Test your function here\n",
    "# calculate_activity_with_time()"
   ]
  },
  {
   "cell_type": "markdown",
   "metadata": {},
   "source": [
    "#### Objective 1 discussion questions:\n",
    "\n",
    "* What happens as you vary the initial concentration of atoms? \n",
    "* How does the activity compare if you have a very short half-life vs. a very long half-life? \n",
    "* What happens if the length of time you wait is very different from the time of your half life? \n",
    "* What other functions could you write that would make this function easier to use? "
   ]
  },
  {
   "cell_type": "markdown",
   "metadata": {},
   "source": [
    "### Objective 2: Effects of Distance"
   ]
  },
  {
   "cell_type": "markdown",
   "metadata": {},
   "source": [
    "Now calculate the particle rate that is hitting an object some distance away from a radionuclide.\n",
    "\n",
    "$$ particle\\ rate = A_i\\frac{exposure\\ area}{4\\pi r^{2}} $$ \n",
    "\n",
    "Let's assume that the `exposure area` here is the cross sectional area of the human body. We will make an assumption that this is a person's height times their width across the shoulders.\n",
    "\n",
    "Modify the function below using the equation above to determine the particle rate seen by the human body.  You must determine what the output for this function should be."
   ]
  },
  {
   "cell_type": "code",
   "execution_count": null,
   "metadata": {
    "collapsed": true
   },
   "outputs": [],
   "source": [
    "def calculate_particles_with_distance(distance_from_source, body_surface_area, initial_concentration):\n",
    "    \"\"\"\n",
    "    This function calculates the total number of particles hitting a body at distance \n",
    "    `distance_from_source` away from the source.\n",
    "\n",
    "    Assumptions:\n",
    "    The area of a human body can be calculated as height*width.\n",
    "\n",
    "    input: distance_from_source [cm], body_surface_area [cm^2], initial concentration of atoms. \n",
    "    output: ???\n",
    "    \"\"\"\n",
    "    return"
   ]
  },
  {
   "cell_type": "markdown",
   "metadata": {},
   "source": [
    "Test your function by calculating the number of particles per second hitting a 6 feet tall and 1.5 feet wide person standing 100 cm from a source emitting 2000 particles per second. "
   ]
  },
  {
   "cell_type": "code",
   "execution_count": null,
   "metadata": {
    "collapsed": true
   },
   "outputs": [],
   "source": [
    "# Test your function here\n",
    "# calculate_particles_with_distance()"
   ]
  },
  {
   "cell_type": "markdown",
   "metadata": {},
   "source": [
    "#### Objective 2 discussion questions:\n",
    "\n",
    "* How does changing the distance away from the source affect the total particle rate hitting the body? \n",
    "* Imagine if Michael Jordan and Simone Biles were both in the room with this source. Would the particle rate that each of them sees be different? How would it differ? \n",
    "* What would happen if instead of facing the source, you turned sideways so your shoulder was pointing to it? \n",
    "* Do you think there are assumptions to this equation? What are they? Hint: what happens if you make the distance from the source very small? \n",
    "* What other functions could you write that would make this function easier to use? "
   ]
  },
  {
   "cell_type": "markdown",
   "metadata": {},
   "source": [
    "### Objective 3: Inserting a shield"
   ]
  },
  {
   "cell_type": "markdown",
   "metadata": {},
   "source": [
    "Now let's think about adding a shield between the source that's emitting particles and where we are detecting a particle rate. \n",
    "\n",
    "The intensity (or particle rate) of particles exiting a shield ($I_B$) is related to the particle intensity entering the shield ($I_A$) by the following equation:\n",
    "\n",
    "$$ I_B = I_A e^{ - \\Sigma x} $$\n"
   ]
  },
  {
   "cell_type": "markdown",
   "metadata": {},
   "source": [
    "Where $\\Sigma$ is the macroscopic cross section, in $1/{cm}$, which differs based on material properties of the shield, and $x$ is the shield thickness.  The macroscopic cross section is a measured property of a material. \n",
    "\n",
    "The equation above tells us that the shield attenuates the particle stream hitting it based upon the shield properties and thickness."
   ]
  },
  {
   "cell_type": "markdown",
   "metadata": {},
   "source": [
    "Modify the function below using the equation above to calculate the intensity (particle rate) exiting a shield.  You must determine what the inputs and output should be."
   ]
  },
  {
   "cell_type": "code",
   "execution_count": null,
   "metadata": {
    "collapsed": true
   },
   "outputs": [],
   "source": [
    "# Fill out the input and output fields in the comments here so others know what your code is intended to do! \n",
    "def calculate_shield_attenuation():\n",
    "    \"\"\"\n",
    "    This function calculates the change in particle rate given a shield of a specific thickness. \n",
    "    \n",
    "    input: ???\n",
    "    output: ??? \n",
    "    \"\"\"\n",
    "    return "
   ]
  },
  {
   "cell_type": "markdown",
   "metadata": {},
   "source": [
    "Test your function by calculating the intensity of particles with an initial intensity of $10^{15}$ particles/second  after passing through a shield of thickness 4 cm with a macroscopic cross section of $\\Sigma = 0.2$ cm$^{-1}$."
   ]
  },
  {
   "cell_type": "code",
   "execution_count": null,
   "metadata": {
    "collapsed": true
   },
   "outputs": [],
   "source": [
    "# Test your function here\n",
    "# calculate_shield_attenuation()"
   ]
  },
  {
   "cell_type": "markdown",
   "metadata": {},
   "source": [
    "#### Objective 3 discussion questions\n",
    "\n",
    "* If you were choosing a shielding material, what type of macroscopic cross section would you look for and why?\n",
    "* Do you think there are assumptions to this equation?  What are they?"
   ]
  },
  {
   "cell_type": "markdown",
   "metadata": {},
   "source": [
    "### Objective 4: Putting it all together"
   ]
  },
  {
   "cell_type": "markdown",
   "metadata": {},
   "source": [
    "Something that we often do in programming is call (or use) functions within other functions. This makes our code easier to read, and also allows us to reuse smaller, simpler functions in other places so we do not have to keep rewriting things, which can get really annoying and leads to duplicate code.\n",
    "\n",
    "\n",
    "Using the three functions that you have defined above, try to write a function that returns the activity you see from a source after a time, `elapsed_time`, at a specific distance, `distance_away`, and with a shield of thickness `shield_thickness` between you and the source. This equation may look a bit complicated, but luckily the earlier function definitiions makes our implementation easier!\n",
    "\n",
    "$$ A = A_{time}*A_{distance}*A_{shielding} $$\n",
    "\n",
    "which can also be rewritten as:\n",
    "\n",
    "$$ A = A_{i}e^{-\\lambda t} * \\frac{exposure\\ area}{4 \\pi r^{2}} * e^{-\\Sigma x} $$ "
   ]
  },
  {
   "cell_type": "markdown",
   "metadata": {},
   "source": [
    "Assume the same material properties and body dimensions that you used in your earlier functions so they are not inputs for this new function.  In other words, make the $\\lambda$, `exposure area`, and $\\Sigma$ fixed input values."
   ]
  },
  {
   "cell_type": "code",
   "execution_count": null,
   "metadata": {
    "collapsed": true
   },
   "outputs": [],
   "source": [
    "# Fill out the assumptions, input and output fields in the comments here so \n",
    "# others know what your code is intended to do! \n",
    "\n",
    "def calculate_activity_of_all_effects(elapsed_time, distance_away, shield_thickness, initial_concentration):\n",
    "    \"\"\"\n",
    "    This function calculates the activity seen from a source by a shielded human \n",
    "    after a time `elapsed_time` and a distance `distance_away`\n",
    "\n",
    "    Assumptions:\n",
    "    ?\n",
    "\n",
    "    input: ???\n",
    "    output: ???\n",
    "    \"\"\"\n",
    "    return particle_rate"
   ]
  },
  {
   "cell_type": "markdown",
   "metadata": {},
   "source": [
    "Test your function by calculating the activity of a source with initial concentration of $10^{15}$ atoms and half life of 10 days that has passed through a shield of thickness 4 cm with a macroscopic cross section of $\\Sigma = 0.2$ cm$^{-1}$ and is measured at a distance of 1000 cm after 8000 seconds."
   ]
  },
  {
   "cell_type": "code",
   "execution_count": null,
   "metadata": {
    "collapsed": true
   },
   "outputs": [],
   "source": [
    "# Test your function here\n",
    "# calculate_activity_of_all_effects"
   ]
  },
  {
   "cell_type": "markdown",
   "metadata": {},
   "source": [
    "The suggested function solutions can be found in the `solutions.py` script and the answers to the discussion questions can be found in `discussion-solutions.md`."
   ]
  },
  {
   "cell_type": "markdown",
   "metadata": {},
   "source": [
    "## Extra Credit"
   ]
  },
  {
   "cell_type": "markdown",
   "metadata": {},
   "source": [
    "Once the functions above have been completed, we can use these functions along with python plotting tools to do stuff.\n",
    "\n",
    "See if you can use python matplotlib routines to make plots of the following:\n",
    "* A plot of activity versus time\n",
    "* A plot of particle rate versus distance\n",
    "* A plot of particle intensity versus shield thickness\n",
    "* A plot of particle intensity versus shield material\n",
    "\n",
    "What else would be interesting to plot with regard to activity and particle intensity?"
   ]
  },
  {
   "cell_type": "code",
   "execution_count": null,
   "metadata": {
    "collapsed": true
   },
   "outputs": [],
   "source": []
  }
 ],
 "metadata": {
  "kernelspec": {
   "display_name": "Python 3",
   "language": "python",
   "name": "python3"
  },
  "language_info": {
   "codemirror_mode": {
    "name": "ipython",
    "version": 3
   },
   "file_extension": ".py",
   "mimetype": "text/x-python",
   "name": "python",
   "nbconvert_exporter": "python",
   "pygments_lexer": "ipython3",
   "version": "3.7.3"
  }
 },
 "nbformat": 4,
 "nbformat_minor": 2
}
